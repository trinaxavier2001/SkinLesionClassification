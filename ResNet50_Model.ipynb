{
  "nbformat": 4,
  "nbformat_minor": 0,
  "metadata": {
    "colab": {
      "provenance": [],
      "gpuType": "T4",
      "mount_file_id": "1d1AkqP_tiPeRzEFbClo3HgZjHaIguKHl",
      "authorship_tag": "ABX9TyOcwqUFqYh4fUzFTTeP8bH6",
      "include_colab_link": true
    },
    "kernelspec": {
      "name": "python3",
      "display_name": "Python 3"
    },
    "language_info": {
      "name": "python"
    },
    "accelerator": "GPU"
  },
  "cells": [
    {
      "cell_type": "markdown",
      "metadata": {
        "id": "view-in-github",
        "colab_type": "text"
      },
      "source": [
        "<a href=\"https://colab.research.google.com/github/trinaxavier2001/SkinLesionClassification/blob/main/ResNet50_Model.ipynb\" target=\"_parent\"><img src=\"https://colab.research.google.com/assets/colab-badge.svg\" alt=\"Open In Colab\"/></a>"
      ]
    },
    {
      "cell_type": "code",
      "source": [
        "!pip install --upgrade torchvision\n"
      ],
      "metadata": {
        "colab": {
          "base_uri": "https://localhost:8080/"
        },
        "id": "d3PwSO7ClcIH",
        "outputId": "189d1464-de76-48a4-8455-e2f0d5b42f64"
      },
      "execution_count": null,
      "outputs": [
        {
          "output_type": "stream",
          "name": "stdout",
          "text": [
            "Requirement already satisfied: torchvision in /usr/local/lib/python3.11/dist-packages (0.22.0)\n",
            "Requirement already satisfied: numpy in /usr/local/lib/python3.11/dist-packages (from torchvision) (2.0.2)\n",
            "Requirement already satisfied: torch==2.7.0 in /usr/local/lib/python3.11/dist-packages (from torchvision) (2.7.0)\n",
            "Requirement already satisfied: pillow!=8.3.*,>=5.3.0 in /usr/local/lib/python3.11/dist-packages (from torchvision) (11.2.1)\n",
            "Requirement already satisfied: filelock in /usr/local/lib/python3.11/dist-packages (from torch==2.7.0->torchvision) (3.18.0)\n",
            "Requirement already satisfied: typing-extensions>=4.10.0 in /usr/local/lib/python3.11/dist-packages (from torch==2.7.0->torchvision) (4.13.2)\n",
            "Requirement already satisfied: sympy>=1.13.3 in /usr/local/lib/python3.11/dist-packages (from torch==2.7.0->torchvision) (1.14.0)\n",
            "Requirement already satisfied: networkx in /usr/local/lib/python3.11/dist-packages (from torch==2.7.0->torchvision) (3.4.2)\n",
            "Requirement already satisfied: jinja2 in /usr/local/lib/python3.11/dist-packages (from torch==2.7.0->torchvision) (3.1.6)\n",
            "Requirement already satisfied: fsspec in /usr/local/lib/python3.11/dist-packages (from torch==2.7.0->torchvision) (2025.3.2)\n",
            "Requirement already satisfied: nvidia-cuda-nvrtc-cu12==12.6.77 in /usr/local/lib/python3.11/dist-packages (from torch==2.7.0->torchvision) (12.6.77)\n",
            "Requirement already satisfied: nvidia-cuda-runtime-cu12==12.6.77 in /usr/local/lib/python3.11/dist-packages (from torch==2.7.0->torchvision) (12.6.77)\n",
            "Requirement already satisfied: nvidia-cuda-cupti-cu12==12.6.80 in /usr/local/lib/python3.11/dist-packages (from torch==2.7.0->torchvision) (12.6.80)\n",
            "Requirement already satisfied: nvidia-cudnn-cu12==9.5.1.17 in /usr/local/lib/python3.11/dist-packages (from torch==2.7.0->torchvision) (9.5.1.17)\n",
            "Requirement already satisfied: nvidia-cublas-cu12==12.6.4.1 in /usr/local/lib/python3.11/dist-packages (from torch==2.7.0->torchvision) (12.6.4.1)\n",
            "Requirement already satisfied: nvidia-cufft-cu12==11.3.0.4 in /usr/local/lib/python3.11/dist-packages (from torch==2.7.0->torchvision) (11.3.0.4)\n",
            "Requirement already satisfied: nvidia-curand-cu12==10.3.7.77 in /usr/local/lib/python3.11/dist-packages (from torch==2.7.0->torchvision) (10.3.7.77)\n",
            "Requirement already satisfied: nvidia-cusolver-cu12==11.7.1.2 in /usr/local/lib/python3.11/dist-packages (from torch==2.7.0->torchvision) (11.7.1.2)\n",
            "Requirement already satisfied: nvidia-cusparse-cu12==12.5.4.2 in /usr/local/lib/python3.11/dist-packages (from torch==2.7.0->torchvision) (12.5.4.2)\n",
            "Requirement already satisfied: nvidia-cusparselt-cu12==0.6.3 in /usr/local/lib/python3.11/dist-packages (from torch==2.7.0->torchvision) (0.6.3)\n",
            "Requirement already satisfied: nvidia-nccl-cu12==2.26.2 in /usr/local/lib/python3.11/dist-packages (from torch==2.7.0->torchvision) (2.26.2)\n",
            "Requirement already satisfied: nvidia-nvtx-cu12==12.6.77 in /usr/local/lib/python3.11/dist-packages (from torch==2.7.0->torchvision) (12.6.77)\n",
            "Requirement already satisfied: nvidia-nvjitlink-cu12==12.6.85 in /usr/local/lib/python3.11/dist-packages (from torch==2.7.0->torchvision) (12.6.85)\n",
            "Requirement already satisfied: nvidia-cufile-cu12==1.11.1.6 in /usr/local/lib/python3.11/dist-packages (from torch==2.7.0->torchvision) (1.11.1.6)\n",
            "Requirement already satisfied: triton==3.3.0 in /usr/local/lib/python3.11/dist-packages (from torch==2.7.0->torchvision) (3.3.0)\n",
            "Requirement already satisfied: setuptools>=40.8.0 in /usr/local/lib/python3.11/dist-packages (from triton==3.3.0->torch==2.7.0->torchvision) (75.2.0)\n",
            "Requirement already satisfied: mpmath<1.4,>=1.1.0 in /usr/local/lib/python3.11/dist-packages (from sympy>=1.13.3->torch==2.7.0->torchvision) (1.3.0)\n",
            "Requirement already satisfied: MarkupSafe>=2.0 in /usr/local/lib/python3.11/dist-packages (from jinja2->torch==2.7.0->torchvision) (3.0.2)\n"
          ]
        }
      ]
    },
    {
      "cell_type": "code",
      "source": [
        "import os\n",
        "import pandas as pd\n",
        "import torch\n",
        "import torch.nn as nn\n",
        "import torch.nn.functional as F\n",
        "\n",
        "from PIL import Image\n",
        "from sklearn.model_selection import train_test_split\n",
        "from sklearn.preprocessing   import LabelEncoder\n",
        "from sklearn.metrics         import accuracy_score, f1_score\n",
        "\n",
        "from torch.utils.data      import Dataset, DataLoader\n",
        "from torchvision           import transforms\n",
        "from torchvision.models    import resnet50, ResNet50_Weights\n",
        "from torch.cuda.amp        import autocast, GradScaler"
      ],
      "metadata": {
        "id": "-ZY9gZ33lYRn"
      },
      "execution_count": 1,
      "outputs": []
    },
    {
      "cell_type": "code",
      "source": [
        "# ─── CONFIG ────────────────────────────────────────────────────────────────\n",
        "BASE_DIR    = '/content/drive/MyDrive/Skin_Disease_Model'\n",
        "CSV_PATH    = os.path.join(BASE_DIR, 'metadata_with_image_descriptions.csv')\n",
        "BATCH_SIZE  = 32\n",
        "NUM_EPOCHS  = 26\n",
        "DEVICE      = torch.device('cuda' if torch.cuda.is_available() else 'cpu')\n",
        "import random\n",
        "import numpy as np\n",
        "import torch\n",
        "\n",
        "SEED = 42\n",
        "random.seed(SEED)\n",
        "np.random.seed(SEED)\n",
        "torch.manual_seed(SEED)\n",
        "if torch.cuda.is_available():\n",
        "    torch.cuda.manual_seed(SEED)\n",
        "    torch.cuda.manual_seed_all(SEED)\n",
        "\n",
        "# Optional: enforce full determinism (may slow some CUDA ops)\n",
        "\n"
      ],
      "metadata": {
        "id": "IjqqnrmHlcKy"
      },
      "execution_count": 2,
      "outputs": []
    },
    {
      "cell_type": "code",
      "source": [
        "from pathlib import Path\n",
        "import glob\n",
        "\n",
        "# ─── CONFIG ────────────────────────────────────────────────────────────────\n",
        "# adjust this to wherever you mounted your Drive in Colab\n",
        "DRIVE_ROOT = Path(\"/content/drive/MyDrive/Skin_Disease_Model\")\n",
        "\n",
        "# ─── 1) PREPARE A GLOBAL IMAGE-ID → FILE-PATH MAP ──────────────────────────\n",
        "# scan both parts directories for all .jpg files\n",
        "all_image_files = glob.glob(str(DRIVE_ROOT / \"HAM10000_images_part_*\" / \"*.jpg\"))\n",
        "\n",
        "# build a dict { image_id (no suffix) : absolute_path_str }\n",
        "path_map = { Path(p).stem : p for p in all_image_files }\n",
        "\n",
        "\n",
        "# ─── 2) HELPERS ───────────────────────────────────────────────────────────────\n",
        "def preprocess_df(csv_path):\n",
        "    df = pd.read_csv(csv_path)\n",
        "\n",
        "    # map each image_id to its full path via our dict\n",
        "    df[\"file_path\"] = df[\"image_id\"].map(path_map)\n",
        "\n",
        "    # if any lookups failed, you'll get NaNs—catch them early:\n",
        "    missing = df[\"file_path\"].isna().sum()\n",
        "    if missing:\n",
        "        raise RuntimeError(f\"{missing} image_ids not found in Drive!\")\n",
        "\n",
        "    # encode labels\n",
        "    df[\"label\"] = LabelEncoder().fit_transform(df[\"dx\"])\n",
        "    return df\n",
        "\n",
        "def make_splits(df):\n",
        "    df_temp, test_df = train_test_split(\n",
        "        df, test_size=0.10,\n",
        "        stratify=df[\"label\"],\n",
        "        random_state=42\n",
        "    )\n",
        "    val_ratio = 0.20 / 0.90\n",
        "    train_df, val_df = train_test_split(\n",
        "        df_temp, test_size=val_ratio,\n",
        "        stratify=df_temp[\"label\"],\n",
        "        random_state=42\n",
        "    )\n",
        "    return train_df, val_df, test_df\n"
      ],
      "metadata": {
        "id": "4VwAFcEnvkNA"
      },
      "execution_count": 3,
      "outputs": []
    },
    {
      "cell_type": "code",
      "source": [
        "\n",
        "class HAM10000Dataset(Dataset):\n",
        "    def __init__(self, df, transform=None):\n",
        "        self.df        = df.reset_index(drop=True)\n",
        "        self.transform = transform\n",
        "        labels = sorted(self.df.label.unique())\n",
        "        self.label_map = {lbl:i for i,lbl in enumerate(labels)}\n",
        "\n",
        "    def __len__(self):\n",
        "        return len(self.df)\n",
        "\n",
        "    def __getitem__(self, idx):\n",
        "        row = self.df.iloc[idx]\n",
        "        img = Image.open(row.file_path).convert('RGB')\n",
        "        if self.transform:\n",
        "            img = self.transform(img)\n",
        "        label = self.label_map[row.label]\n",
        "        return img, label"
      ],
      "metadata": {
        "id": "Mc-DT-yKIH_a"
      },
      "execution_count": 4,
      "outputs": []
    },
    {
      "cell_type": "code",
      "source": [
        "# ─── TRANSFORMS ────────────────────────────────────────────────────────────\n",
        "heavy_augment = transforms.Compose([\n",
        "    transforms.RandomResizedCrop(224, scale=(0.8,1.0)),\n",
        "    transforms.RandomHorizontalFlip(),\n",
        "    transforms.RandomRotation(15),\n",
        "    transforms.ColorJitter(0.2,0.2,0.2),\n",
        "    transforms.ToTensor(),\n",
        "    transforms.Normalize([0.485,0.456,0.406],\n",
        "                         [0.229,0.224,0.225]),\n",
        "    transforms.RandomErasing(p=0.3, scale=(0.02,0.2)),\n",
        "])\n",
        "\n",
        "val_test_tfm = transforms.Compose([\n",
        "    transforms.Resize(256),\n",
        "    transforms.CenterCrop(224),\n",
        "    transforms.ToTensor(),\n",
        "    transforms.Normalize([0.485,0.456,0.406],\n",
        "                         [0.229,0.224,0.225]),\n",
        "])\n",
        "\n",
        "def make_loaders(train_df, val_df, test_df, batch_size=BATCH_SIZE):\n",
        "    # compute class weights\n",
        "    counts = train_df.label.value_counts().sort_index().values\n",
        "    class_weights = counts.max() / counts\n",
        "    class_weights /= class_weights.mean()\n",
        "\n",
        "    # build datasets\n",
        "    train_ds = HAM10000Dataset(train_df, transform=heavy_augment)\n",
        "    val_ds   = HAM10000Dataset(val_df,   transform=val_test_tfm)\n",
        "    test_ds  = HAM10000Dataset(test_df,  transform=val_test_tfm)\n",
        "\n",
        "    train_loader = DataLoader(train_ds,\n",
        "                              batch_size=batch_size,\n",
        "                              shuffle=True,\n",
        "                              num_workers=2)\n",
        "    val_loader   = DataLoader(val_ds,\n",
        "                              batch_size=batch_size,\n",
        "                              shuffle=False,\n",
        "                              num_workers=1)\n",
        "    test_loader  = DataLoader(test_ds,\n",
        "                              batch_size=batch_size,\n",
        "                              shuffle=False,\n",
        "                              num_workers=1)\n",
        "\n",
        "    return train_loader, val_loader, test_loader, \\\n",
        "           torch.as_tensor(class_weights, dtype=torch.float32)"
      ],
      "metadata": {
        "id": "VM_bA_ozlcQa"
      },
      "execution_count": 5,
      "outputs": []
    },
    {
      "cell_type": "code",
      "source": [
        "# ─── MODEL ────────────────────────────────────────────────────────────────\n",
        "class ModifiedResNet50(nn.Module):\n",
        "    def __init__(self, num_classes, hidden_dim=512, dropout_p=0.5):\n",
        "        super().__init__()\n",
        "        backbone = resnet50(weights=ResNet50_Weights.DEFAULT)\n",
        "        in_feats = backbone.fc.in_features\n",
        "        backbone.fc = nn.Identity()\n",
        "        self.backbone = backbone\n",
        "\n",
        "        self.head = nn.Sequential(\n",
        "            nn.Dropout(dropout_p),\n",
        "            nn.Linear(in_feats, hidden_dim),\n",
        "            nn.ReLU(inplace=True),\n",
        "            nn.Dropout(dropout_p),\n",
        "            nn.Linear(hidden_dim, num_classes)\n",
        "        )\n",
        "\n",
        "    def forward(self, x):\n",
        "        feats = self.backbone(x)\n",
        "        return self.head(feats)"
      ],
      "metadata": {
        "id": "sEw81nYvlcNt"
      },
      "execution_count": 7,
      "outputs": []
    },
    {
      "cell_type": "code",
      "source": [
        "# ─── TRAIN ONE EPOCH (with periodic logging) ────────────────────────────────\n",
        "def train_one_epoch(model, loader, criterion, optimizer, device, scaler, epoch, log_interval=100):\n",
        "    model.train()\n",
        "    total_loss = 0\n",
        "    all_preds, all_labels = [], []\n",
        "\n",
        "    for batch_idx, (imgs, labels) in enumerate(loader, start=1):\n",
        "        imgs, labels = imgs.to(device), labels.to(device)\n",
        "        optimizer.zero_grad()\n",
        "\n",
        "        with autocast():\n",
        "            logits = model(imgs)\n",
        "            loss   = criterion(logits, labels)\n",
        "\n",
        "        scaler.scale(loss).backward()\n",
        "        scaler.step(optimizer)\n",
        "        scaler.update()\n",
        "\n",
        "        total_loss += loss.item() * imgs.size(0)\n",
        "        preds = logits.argmax(dim=1)\n",
        "        all_preds .extend(preds.cpu().numpy())\n",
        "        all_labels.extend(labels.cpu().numpy())\n",
        "\n",
        "        # ─── log every `log_interval` batches ───────────────────────────\n",
        "        if batch_idx % log_interval == 0:\n",
        "            current_lr = optimizer.param_groups[0]['lr']\n",
        "            print(f\"Epoch {epoch:02d} | \"\n",
        "                  f\"Batch {batch_idx}/{len(loader)} | \"\n",
        "                  f\"LR {current_lr:.2e} | \"\n",
        "                  f\"Batch Loss {loss.item():.4f}\")\n",
        "\n",
        "    torch.cuda.empty_cache()\n",
        "    train_loss = total_loss / len(loader.dataset)\n",
        "    train_acc  = accuracy_score(all_labels, all_preds)\n",
        "    train_f1   = f1_score(all_labels, all_preds, average='macro')\n",
        "    return train_loss, train_acc, train_f1\n",
        "\n",
        "@torch.no_grad()\n",
        "def validate(model, loader, criterion, device, scaler):\n",
        "    model.eval()\n",
        "    total_loss = 0\n",
        "    all_preds, all_labels = [], []\n",
        "\n",
        "    for imgs, labels in loader:\n",
        "        imgs, labels = imgs.to(device), labels.to(device)\n",
        "        with autocast():\n",
        "            logits = model(imgs)\n",
        "            loss   = criterion(logits, labels)\n",
        "\n",
        "        total_loss += loss.item() * imgs.size(0)\n",
        "        preds = logits.argmax(dim=1)\n",
        "        all_preds .extend(preds.cpu().numpy())\n",
        "        all_labels.extend(labels.cpu().numpy())\n",
        "\n",
        "    torch.cuda.empty_cache()\n",
        "    val_loss = total_loss / len(loader.dataset)\n",
        "    val_acc  = accuracy_score(all_labels, all_preds)\n",
        "    val_f1   = f1_score(all_labels, all_preds, average='macro')\n",
        "    return val_loss, val_acc, val_f1"
      ],
      "metadata": {
        "id": "sOCIj_R4lcX-"
      },
      "execution_count": 8,
      "outputs": []
    },
    {
      "cell_type": "code",
      "source": [
        "import torch\n",
        "torch.cuda.empty_cache()\n"
      ],
      "metadata": {
        "id": "lst2nZdA3N8n"
      },
      "execution_count": 9,
      "outputs": []
    },
    {
      "cell_type": "code",
      "source": [
        "# ─── MAIN TRAINING LOOP (call updated train_one_epoch) ─────────────────────\n",
        "def run_training():\n",
        "    torch.cuda.empty_cache()\n",
        "\n",
        "    # Prepare data\n",
        "    df           = preprocess_df(CSV_PATH)\n",
        "    train_df, val_df, test_df = make_splits(df)\n",
        "    train_loader, val_loader, test_loader, class_wts = make_loaders(\n",
        "        train_df, val_df, test_df, batch_size=BATCH_SIZE\n",
        "    )\n",
        "    num_classes = class_wts.numel()\n",
        "\n",
        "    # Build model & tools\n",
        "    alpha     = class_wts.to(DEVICE)\n",
        "    criterion = nn.CrossEntropyLoss(weight=alpha)\n",
        "    model     = ModifiedResNet50(num_classes=num_classes).to(DEVICE)\n",
        "    optimizer = torch.optim.AdamW(model.parameters(),\n",
        "                                  lr=1e-5,     # start low for warm-up\n",
        "                                  weight_decay=1e-2)\n",
        "    scheduler = torch.optim.lr_scheduler.ReduceLROnPlateau(\n",
        "                    optimizer, mode='min', factor=0.5, patience=3)\n",
        "    scaler = GradScaler()\n",
        "\n",
        "    # Freeze backbone initially\n",
        "    for p in model.backbone.parameters():\n",
        "        p.requires_grad = False\n",
        "\n",
        "    best_acc = 0.0\n",
        "\n",
        "    for ep in range(1, NUM_EPOCHS+1):\n",
        "        # … (freeze/unfreeze, LR warm-up, transforms) …\n",
        "        if ep == 6:\n",
        "            for p in model.backbone.parameters():\n",
        "                p.requires_grad = True\n",
        "            print(\"🔓 Unfroze backbone\")\n",
        "        target_lr = 1e-4 if ep > 2 else 1e-5 * (ep/2)\n",
        "        for g in optimizer.param_groups:\n",
        "            g['lr'] = target_lr\n",
        "        if ep <= 3:\n",
        "            train_loader.dataset.transform = val_test_tfm\n",
        "        else:\n",
        "            train_loader.dataset.transform = heavy_augment\n",
        "\n",
        "        # pass `epoch` into train_one_epoch:\n",
        "        tr_loss, tr_acc, tr_f1 = train_one_epoch(\n",
        "            model, train_loader, criterion,\n",
        "            optimizer, DEVICE, scaler,\n",
        "            epoch=ep,        # <-- here\n",
        "            log_interval=100 # adjust as desired\n",
        "        )\n",
        "\n",
        "        val_loss, val_acc, val_f1 = validate(\n",
        "            model, val_loader, criterion,\n",
        "            DEVICE, scaler\n",
        "        )\n",
        "\n",
        "        scheduler.step(val_loss)\n",
        "\n",
        "        print(f\"Epoch {ep:02d} | \"\n",
        "              f\"Train L {tr_loss:.4f} Acc {tr_acc:.4f} F1 {tr_f1:.4f} | \"\n",
        "              f\"Val   L {val_loss:.4f} Acc {val_acc:.4f} F1 {val_f1:.4f}\")\n",
        "\n",
        "        if val_acc > best_acc:\n",
        "            best_acc = val_acc\n",
        "            torch.save(model.state_dict(), 'best_resnet50.pth')\n",
        "\n",
        "    print(f\"\\nBest validation accuracy: {best_acc:.4f}\")\n"
      ],
      "metadata": {
        "id": "uZn2iezplcdJ"
      },
      "execution_count": 11,
      "outputs": []
    },
    {
      "cell_type": "code",
      "source": [
        "\n",
        "if __name__ == \"__main__\":\n",
        "    run_training()"
      ],
      "metadata": {
        "colab": {
          "base_uri": "https://localhost:8080/"
        },
        "id": "fb-yWpeOlcgE",
        "outputId": "a6550a2a-2b7a-47b4-e4b8-bc1556f26f0a"
      },
      "execution_count": 12,
      "outputs": [
        {
          "output_type": "stream",
          "name": "stderr",
          "text": [
            "Downloading: \"https://download.pytorch.org/models/resnet50-11ad3fa6.pth\" to /root/.cache/torch/hub/checkpoints/resnet50-11ad3fa6.pth\n",
            "100%|██████████| 97.8M/97.8M [00:00<00:00, 180MB/s]\n",
            "<ipython-input-11-4ac7b3816b96>:22: FutureWarning: `torch.cuda.amp.GradScaler(args...)` is deprecated. Please use `torch.amp.GradScaler('cuda', args...)` instead.\n",
            "  scaler = GradScaler()\n",
            "<ipython-input-8-20985f93b7e0>:11: FutureWarning: `torch.cuda.amp.autocast(args...)` is deprecated. Please use `torch.amp.autocast('cuda', args...)` instead.\n",
            "  with autocast():\n"
          ]
        },
        {
          "output_type": "stream",
          "name": "stdout",
          "text": [
            "Epoch 01 | Batch 100/220 | LR 5.00e-06 | Batch Loss 1.9908\n",
            "Epoch 01 | Batch 200/220 | LR 5.00e-06 | Batch Loss 1.8915\n"
          ]
        },
        {
          "output_type": "stream",
          "name": "stderr",
          "text": [
            "<ipython-input-8-20985f93b7e0>:46: FutureWarning: `torch.cuda.amp.autocast(args...)` is deprecated. Please use `torch.amp.autocast('cuda', args...)` instead.\n",
            "  with autocast():\n"
          ]
        },
        {
          "output_type": "stream",
          "name": "stdout",
          "text": [
            "Epoch 01 | Train L 1.9406 Acc 0.2869 F1 0.1265 | Val   L 1.9304 Acc 0.4718 F1 0.1536\n"
          ]
        },
        {
          "output_type": "stream",
          "name": "stderr",
          "text": [
            "<ipython-input-8-20985f93b7e0>:11: FutureWarning: `torch.cuda.amp.autocast(args...)` is deprecated. Please use `torch.amp.autocast('cuda', args...)` instead.\n",
            "  with autocast():\n"
          ]
        },
        {
          "output_type": "stream",
          "name": "stdout",
          "text": [
            "Epoch 02 | Batch 100/220 | LR 1.00e-05 | Batch Loss 1.8867\n",
            "Epoch 02 | Batch 200/220 | LR 1.00e-05 | Batch Loss 1.8918\n"
          ]
        },
        {
          "output_type": "stream",
          "name": "stderr",
          "text": [
            "<ipython-input-8-20985f93b7e0>:46: FutureWarning: `torch.cuda.amp.autocast(args...)` is deprecated. Please use `torch.amp.autocast('cuda', args...)` instead.\n",
            "  with autocast():\n"
          ]
        },
        {
          "output_type": "stream",
          "name": "stdout",
          "text": [
            "Epoch 02 | Train L 1.9210 Acc 0.4613 F1 0.1705 | Val   L 1.9027 Acc 0.6470 F1 0.2037\n"
          ]
        },
        {
          "output_type": "stream",
          "name": "stderr",
          "text": [
            "<ipython-input-8-20985f93b7e0>:11: FutureWarning: `torch.cuda.amp.autocast(args...)` is deprecated. Please use `torch.amp.autocast('cuda', args...)` instead.\n",
            "  with autocast():\n"
          ]
        },
        {
          "output_type": "stream",
          "name": "stdout",
          "text": [
            "Epoch 03 | Batch 100/220 | LR 1.00e-04 | Batch Loss 1.8417\n",
            "Epoch 03 | Batch 200/220 | LR 1.00e-04 | Batch Loss 1.5633\n"
          ]
        },
        {
          "output_type": "stream",
          "name": "stderr",
          "text": [
            "<ipython-input-8-20985f93b7e0>:46: FutureWarning: `torch.cuda.amp.autocast(args...)` is deprecated. Please use `torch.amp.autocast('cuda', args...)` instead.\n",
            "  with autocast():\n"
          ]
        },
        {
          "output_type": "stream",
          "name": "stdout",
          "text": [
            "Epoch 03 | Train L 1.7788 Acc 0.5842 F1 0.2883 | Val   L 1.6317 Acc 0.6355 F1 0.3623\n"
          ]
        },
        {
          "output_type": "stream",
          "name": "stderr",
          "text": [
            "<ipython-input-8-20985f93b7e0>:11: FutureWarning: `torch.cuda.amp.autocast(args...)` is deprecated. Please use `torch.amp.autocast('cuda', args...)` instead.\n",
            "  with autocast():\n"
          ]
        },
        {
          "output_type": "stream",
          "name": "stdout",
          "text": [
            "Epoch 04 | Batch 100/220 | LR 1.00e-04 | Batch Loss 1.8813\n",
            "Epoch 04 | Batch 200/220 | LR 1.00e-04 | Batch Loss 1.4258\n"
          ]
        },
        {
          "output_type": "stream",
          "name": "stderr",
          "text": [
            "<ipython-input-8-20985f93b7e0>:46: FutureWarning: `torch.cuda.amp.autocast(args...)` is deprecated. Please use `torch.amp.autocast('cuda', args...)` instead.\n",
            "  with autocast():\n"
          ]
        },
        {
          "output_type": "stream",
          "name": "stdout",
          "text": [
            "Epoch 04 | Train L 1.6202 Acc 0.5773 F1 0.3224 | Val   L 1.4893 Acc 0.6360 F1 0.4144\n"
          ]
        },
        {
          "output_type": "stream",
          "name": "stderr",
          "text": [
            "<ipython-input-8-20985f93b7e0>:11: FutureWarning: `torch.cuda.amp.autocast(args...)` is deprecated. Please use `torch.amp.autocast('cuda', args...)` instead.\n",
            "  with autocast():\n"
          ]
        },
        {
          "output_type": "stream",
          "name": "stdout",
          "text": [
            "Epoch 05 | Batch 100/220 | LR 1.00e-04 | Batch Loss 1.3126\n",
            "Epoch 05 | Batch 200/220 | LR 1.00e-04 | Batch Loss 1.6444\n"
          ]
        },
        {
          "output_type": "stream",
          "name": "stderr",
          "text": [
            "<ipython-input-8-20985f93b7e0>:46: FutureWarning: `torch.cuda.amp.autocast(args...)` is deprecated. Please use `torch.amp.autocast('cuda', args...)` instead.\n",
            "  with autocast():\n"
          ]
        },
        {
          "output_type": "stream",
          "name": "stdout",
          "text": [
            "Epoch 05 | Train L 1.4804 Acc 0.5775 F1 0.3547 | Val   L 1.4036 Acc 0.6490 F1 0.4381\n",
            "🔓 Unfroze backbone\n"
          ]
        },
        {
          "output_type": "stream",
          "name": "stderr",
          "text": [
            "<ipython-input-8-20985f93b7e0>:11: FutureWarning: `torch.cuda.amp.autocast(args...)` is deprecated. Please use `torch.amp.autocast('cuda', args...)` instead.\n",
            "  with autocast():\n"
          ]
        },
        {
          "output_type": "stream",
          "name": "stdout",
          "text": [
            "Epoch 06 | Batch 100/220 | LR 1.00e-04 | Batch Loss 1.1387\n",
            "Epoch 06 | Batch 200/220 | LR 1.00e-04 | Batch Loss 0.9464\n"
          ]
        },
        {
          "output_type": "stream",
          "name": "stderr",
          "text": [
            "<ipython-input-8-20985f93b7e0>:46: FutureWarning: `torch.cuda.amp.autocast(args...)` is deprecated. Please use `torch.amp.autocast('cuda', args...)` instead.\n",
            "  with autocast():\n"
          ]
        },
        {
          "output_type": "stream",
          "name": "stdout",
          "text": [
            "Epoch 06 | Train L 1.1171 Acc 0.6394 F1 0.4694 | Val   L 0.8657 Acc 0.6760 F1 0.5419\n"
          ]
        },
        {
          "output_type": "stream",
          "name": "stderr",
          "text": [
            "<ipython-input-8-20985f93b7e0>:11: FutureWarning: `torch.cuda.amp.autocast(args...)` is deprecated. Please use `torch.amp.autocast('cuda', args...)` instead.\n",
            "  with autocast():\n"
          ]
        },
        {
          "output_type": "stream",
          "name": "stdout",
          "text": [
            "Epoch 07 | Batch 100/220 | LR 1.00e-04 | Batch Loss 0.4900\n",
            "Epoch 07 | Batch 200/220 | LR 1.00e-04 | Batch Loss 1.0547\n"
          ]
        },
        {
          "output_type": "stream",
          "name": "stderr",
          "text": [
            "<ipython-input-8-20985f93b7e0>:46: FutureWarning: `torch.cuda.amp.autocast(args...)` is deprecated. Please use `torch.amp.autocast('cuda', args...)` instead.\n",
            "  with autocast():\n"
          ]
        },
        {
          "output_type": "stream",
          "name": "stdout",
          "text": [
            "Epoch 07 | Train L 0.8391 Acc 0.6767 F1 0.5456 | Val   L 0.7027 Acc 0.7449 F1 0.6254\n"
          ]
        },
        {
          "output_type": "stream",
          "name": "stderr",
          "text": [
            "<ipython-input-8-20985f93b7e0>:11: FutureWarning: `torch.cuda.amp.autocast(args...)` is deprecated. Please use `torch.amp.autocast('cuda', args...)` instead.\n",
            "  with autocast():\n"
          ]
        },
        {
          "output_type": "stream",
          "name": "stdout",
          "text": [
            "Epoch 08 | Batch 100/220 | LR 1.00e-04 | Batch Loss 1.3824\n",
            "Epoch 08 | Batch 200/220 | LR 1.00e-04 | Batch Loss 0.8184\n"
          ]
        },
        {
          "output_type": "stream",
          "name": "stderr",
          "text": [
            "<ipython-input-8-20985f93b7e0>:46: FutureWarning: `torch.cuda.amp.autocast(args...)` is deprecated. Please use `torch.amp.autocast('cuda', args...)` instead.\n",
            "  with autocast():\n"
          ]
        },
        {
          "output_type": "stream",
          "name": "stdout",
          "text": [
            "Epoch 08 | Train L 0.6735 Acc 0.7260 F1 0.6403 | Val   L 0.8441 Acc 0.7958 F1 0.6173\n"
          ]
        },
        {
          "output_type": "stream",
          "name": "stderr",
          "text": [
            "<ipython-input-8-20985f93b7e0>:11: FutureWarning: `torch.cuda.amp.autocast(args...)` is deprecated. Please use `torch.amp.autocast('cuda', args...)` instead.\n",
            "  with autocast():\n"
          ]
        },
        {
          "output_type": "stream",
          "name": "stdout",
          "text": [
            "Epoch 09 | Batch 100/220 | LR 1.00e-04 | Batch Loss 0.7892\n",
            "Epoch 09 | Batch 200/220 | LR 1.00e-04 | Batch Loss 0.5797\n"
          ]
        },
        {
          "output_type": "stream",
          "name": "stderr",
          "text": [
            "<ipython-input-8-20985f93b7e0>:46: FutureWarning: `torch.cuda.amp.autocast(args...)` is deprecated. Please use `torch.amp.autocast('cuda', args...)` instead.\n",
            "  with autocast():\n"
          ]
        },
        {
          "output_type": "stream",
          "name": "stdout",
          "text": [
            "Epoch 09 | Train L 0.6251 Acc 0.7466 F1 0.6339 | Val   L 0.6557 Acc 0.7768 F1 0.6504\n"
          ]
        },
        {
          "output_type": "stream",
          "name": "stderr",
          "text": [
            "<ipython-input-8-20985f93b7e0>:11: FutureWarning: `torch.cuda.amp.autocast(args...)` is deprecated. Please use `torch.amp.autocast('cuda', args...)` instead.\n",
            "  with autocast():\n"
          ]
        },
        {
          "output_type": "stream",
          "name": "stdout",
          "text": [
            "Epoch 10 | Batch 100/220 | LR 1.00e-04 | Batch Loss 0.4711\n",
            "Epoch 10 | Batch 200/220 | LR 1.00e-04 | Batch Loss 0.2029\n"
          ]
        },
        {
          "output_type": "stream",
          "name": "stderr",
          "text": [
            "<ipython-input-8-20985f93b7e0>:46: FutureWarning: `torch.cuda.amp.autocast(args...)` is deprecated. Please use `torch.amp.autocast('cuda', args...)` instead.\n",
            "  with autocast():\n"
          ]
        },
        {
          "output_type": "stream",
          "name": "stdout",
          "text": [
            "Epoch 10 | Train L 0.5343 Acc 0.7629 F1 0.6790 | Val   L 0.6228 Acc 0.8133 F1 0.6801\n"
          ]
        },
        {
          "output_type": "stream",
          "name": "stderr",
          "text": [
            "<ipython-input-8-20985f93b7e0>:11: FutureWarning: `torch.cuda.amp.autocast(args...)` is deprecated. Please use `torch.amp.autocast('cuda', args...)` instead.\n",
            "  with autocast():\n"
          ]
        },
        {
          "output_type": "stream",
          "name": "stdout",
          "text": [
            "Epoch 11 | Batch 100/220 | LR 1.00e-04 | Batch Loss 0.3927\n",
            "Epoch 11 | Batch 200/220 | LR 1.00e-04 | Batch Loss 0.5104\n"
          ]
        },
        {
          "output_type": "stream",
          "name": "stderr",
          "text": [
            "<ipython-input-8-20985f93b7e0>:46: FutureWarning: `torch.cuda.amp.autocast(args...)` is deprecated. Please use `torch.amp.autocast('cuda', args...)` instead.\n",
            "  with autocast():\n"
          ]
        },
        {
          "output_type": "stream",
          "name": "stdout",
          "text": [
            "Epoch 11 | Train L 0.4679 Acc 0.7864 F1 0.7197 | Val   L 0.7417 Acc 0.7404 F1 0.6852\n"
          ]
        },
        {
          "output_type": "stream",
          "name": "stderr",
          "text": [
            "<ipython-input-8-20985f93b7e0>:11: FutureWarning: `torch.cuda.amp.autocast(args...)` is deprecated. Please use `torch.amp.autocast('cuda', args...)` instead.\n",
            "  with autocast():\n"
          ]
        },
        {
          "output_type": "stream",
          "name": "stdout",
          "text": [
            "Epoch 12 | Batch 100/220 | LR 1.00e-04 | Batch Loss 0.2977\n",
            "Epoch 12 | Batch 200/220 | LR 1.00e-04 | Batch Loss 0.5320\n"
          ]
        },
        {
          "output_type": "stream",
          "name": "stderr",
          "text": [
            "<ipython-input-8-20985f93b7e0>:46: FutureWarning: `torch.cuda.amp.autocast(args...)` is deprecated. Please use `torch.amp.autocast('cuda', args...)` instead.\n",
            "  with autocast():\n"
          ]
        },
        {
          "output_type": "stream",
          "name": "stdout",
          "text": [
            "Epoch 12 | Train L 0.4127 Acc 0.8006 F1 0.7468 | Val   L 0.6776 Acc 0.8043 F1 0.6892\n"
          ]
        },
        {
          "output_type": "stream",
          "name": "stderr",
          "text": [
            "<ipython-input-8-20985f93b7e0>:11: FutureWarning: `torch.cuda.amp.autocast(args...)` is deprecated. Please use `torch.amp.autocast('cuda', args...)` instead.\n",
            "  with autocast():\n"
          ]
        },
        {
          "output_type": "stream",
          "name": "stdout",
          "text": [
            "Epoch 13 | Batch 100/220 | LR 1.00e-04 | Batch Loss 0.1951\n",
            "Epoch 13 | Batch 200/220 | LR 1.00e-04 | Batch Loss 0.3910\n"
          ]
        },
        {
          "output_type": "stream",
          "name": "stderr",
          "text": [
            "<ipython-input-8-20985f93b7e0>:46: FutureWarning: `torch.cuda.amp.autocast(args...)` is deprecated. Please use `torch.amp.autocast('cuda', args...)` instead.\n",
            "  with autocast():\n"
          ]
        },
        {
          "output_type": "stream",
          "name": "stdout",
          "text": [
            "Epoch 13 | Train L 0.3840 Acc 0.8044 F1 0.7306 | Val   L 0.6924 Acc 0.8078 F1 0.7257\n"
          ]
        },
        {
          "output_type": "stream",
          "name": "stderr",
          "text": [
            "<ipython-input-8-20985f93b7e0>:11: FutureWarning: `torch.cuda.amp.autocast(args...)` is deprecated. Please use `torch.amp.autocast('cuda', args...)` instead.\n",
            "  with autocast():\n"
          ]
        },
        {
          "output_type": "stream",
          "name": "stdout",
          "text": [
            "Epoch 14 | Batch 100/220 | LR 1.00e-04 | Batch Loss 0.3059\n",
            "Epoch 14 | Batch 200/220 | LR 1.00e-04 | Batch Loss 0.2340\n"
          ]
        },
        {
          "output_type": "stream",
          "name": "stderr",
          "text": [
            "<ipython-input-8-20985f93b7e0>:46: FutureWarning: `torch.cuda.amp.autocast(args...)` is deprecated. Please use `torch.amp.autocast('cuda', args...)` instead.\n",
            "  with autocast():\n"
          ]
        },
        {
          "output_type": "stream",
          "name": "stdout",
          "text": [
            "Epoch 14 | Train L 0.3937 Acc 0.8244 F1 0.7609 | Val   L 0.6774 Acc 0.8323 F1 0.7278\n"
          ]
        },
        {
          "output_type": "stream",
          "name": "stderr",
          "text": [
            "<ipython-input-8-20985f93b7e0>:11: FutureWarning: `torch.cuda.amp.autocast(args...)` is deprecated. Please use `torch.amp.autocast('cuda', args...)` instead.\n",
            "  with autocast():\n"
          ]
        },
        {
          "output_type": "stream",
          "name": "stdout",
          "text": [
            "Epoch 15 | Batch 100/220 | LR 1.00e-04 | Batch Loss 0.6172\n",
            "Epoch 15 | Batch 200/220 | LR 1.00e-04 | Batch Loss 0.1941\n"
          ]
        },
        {
          "output_type": "stream",
          "name": "stderr",
          "text": [
            "<ipython-input-8-20985f93b7e0>:46: FutureWarning: `torch.cuda.amp.autocast(args...)` is deprecated. Please use `torch.amp.autocast('cuda', args...)` instead.\n",
            "  with autocast():\n"
          ]
        },
        {
          "output_type": "stream",
          "name": "stdout",
          "text": [
            "Epoch 15 | Train L 0.3342 Acc 0.8352 F1 0.7883 | Val   L 0.7343 Acc 0.8148 F1 0.6966\n"
          ]
        },
        {
          "output_type": "stream",
          "name": "stderr",
          "text": [
            "<ipython-input-8-20985f93b7e0>:11: FutureWarning: `torch.cuda.amp.autocast(args...)` is deprecated. Please use `torch.amp.autocast('cuda', args...)` instead.\n",
            "  with autocast():\n"
          ]
        },
        {
          "output_type": "stream",
          "name": "stdout",
          "text": [
            "Epoch 16 | Batch 100/220 | LR 1.00e-04 | Batch Loss 0.7360\n",
            "Epoch 16 | Batch 200/220 | LR 1.00e-04 | Batch Loss 0.8888\n"
          ]
        },
        {
          "output_type": "stream",
          "name": "stderr",
          "text": [
            "<ipython-input-8-20985f93b7e0>:46: FutureWarning: `torch.cuda.amp.autocast(args...)` is deprecated. Please use `torch.amp.autocast('cuda', args...)` instead.\n",
            "  with autocast():\n"
          ]
        },
        {
          "output_type": "stream",
          "name": "stdout",
          "text": [
            "Epoch 16 | Train L 0.2942 Acc 0.8526 F1 0.8191 | Val   L 0.6697 Acc 0.8283 F1 0.7545\n"
          ]
        },
        {
          "output_type": "stream",
          "name": "stderr",
          "text": [
            "<ipython-input-8-20985f93b7e0>:11: FutureWarning: `torch.cuda.amp.autocast(args...)` is deprecated. Please use `torch.amp.autocast('cuda', args...)` instead.\n",
            "  with autocast():\n"
          ]
        },
        {
          "output_type": "stream",
          "name": "stdout",
          "text": [
            "Epoch 17 | Batch 100/220 | LR 1.00e-04 | Batch Loss 0.3552\n",
            "Epoch 17 | Batch 200/220 | LR 1.00e-04 | Batch Loss 0.6482\n"
          ]
        },
        {
          "output_type": "stream",
          "name": "stderr",
          "text": [
            "<ipython-input-8-20985f93b7e0>:46: FutureWarning: `torch.cuda.amp.autocast(args...)` is deprecated. Please use `torch.amp.autocast('cuda', args...)` instead.\n",
            "  with autocast():\n"
          ]
        },
        {
          "output_type": "stream",
          "name": "stdout",
          "text": [
            "Epoch 17 | Train L 0.3158 Acc 0.8471 F1 0.7945 | Val   L 0.6909 Acc 0.8253 F1 0.7241\n"
          ]
        },
        {
          "output_type": "stream",
          "name": "stderr",
          "text": [
            "<ipython-input-8-20985f93b7e0>:11: FutureWarning: `torch.cuda.amp.autocast(args...)` is deprecated. Please use `torch.amp.autocast('cuda', args...)` instead.\n",
            "  with autocast():\n"
          ]
        },
        {
          "output_type": "stream",
          "name": "stdout",
          "text": [
            "Epoch 18 | Batch 100/220 | LR 1.00e-04 | Batch Loss 0.0826\n",
            "Epoch 18 | Batch 200/220 | LR 1.00e-04 | Batch Loss 0.1173\n"
          ]
        },
        {
          "output_type": "stream",
          "name": "stderr",
          "text": [
            "<ipython-input-8-20985f93b7e0>:46: FutureWarning: `torch.cuda.amp.autocast(args...)` is deprecated. Please use `torch.amp.autocast('cuda', args...)` instead.\n",
            "  with autocast():\n"
          ]
        },
        {
          "output_type": "stream",
          "name": "stdout",
          "text": [
            "Epoch 18 | Train L 0.2690 Acc 0.8655 F1 0.8276 | Val   L 0.8306 Acc 0.8517 F1 0.7737\n"
          ]
        },
        {
          "output_type": "stream",
          "name": "stderr",
          "text": [
            "<ipython-input-8-20985f93b7e0>:11: FutureWarning: `torch.cuda.amp.autocast(args...)` is deprecated. Please use `torch.amp.autocast('cuda', args...)` instead.\n",
            "  with autocast():\n"
          ]
        },
        {
          "output_type": "stream",
          "name": "stdout",
          "text": [
            "Epoch 19 | Batch 100/220 | LR 1.00e-04 | Batch Loss 0.7669\n",
            "Epoch 19 | Batch 200/220 | LR 1.00e-04 | Batch Loss 0.1282\n"
          ]
        },
        {
          "output_type": "stream",
          "name": "stderr",
          "text": [
            "<ipython-input-8-20985f93b7e0>:46: FutureWarning: `torch.cuda.amp.autocast(args...)` is deprecated. Please use `torch.amp.autocast('cuda', args...)` instead.\n",
            "  with autocast():\n"
          ]
        },
        {
          "output_type": "stream",
          "name": "stdout",
          "text": [
            "Epoch 19 | Train L 0.2360 Acc 0.8729 F1 0.8477 | Val   L 0.6959 Acc 0.8467 F1 0.7853\n"
          ]
        },
        {
          "output_type": "stream",
          "name": "stderr",
          "text": [
            "<ipython-input-8-20985f93b7e0>:11: FutureWarning: `torch.cuda.amp.autocast(args...)` is deprecated. Please use `torch.amp.autocast('cuda', args...)` instead.\n",
            "  with autocast():\n"
          ]
        },
        {
          "output_type": "stream",
          "name": "stdout",
          "text": [
            "Epoch 20 | Batch 100/220 | LR 1.00e-04 | Batch Loss 0.3464\n",
            "Epoch 20 | Batch 200/220 | LR 1.00e-04 | Batch Loss 0.2587\n"
          ]
        },
        {
          "output_type": "stream",
          "name": "stderr",
          "text": [
            "<ipython-input-8-20985f93b7e0>:46: FutureWarning: `torch.cuda.amp.autocast(args...)` is deprecated. Please use `torch.amp.autocast('cuda', args...)` instead.\n",
            "  with autocast():\n"
          ]
        },
        {
          "output_type": "stream",
          "name": "stdout",
          "text": [
            "Epoch 20 | Train L 0.1956 Acc 0.8874 F1 0.8689 | Val   L 0.7573 Acc 0.8168 F1 0.7503\n"
          ]
        },
        {
          "output_type": "stream",
          "name": "stderr",
          "text": [
            "<ipython-input-8-20985f93b7e0>:11: FutureWarning: `torch.cuda.amp.autocast(args...)` is deprecated. Please use `torch.amp.autocast('cuda', args...)` instead.\n",
            "  with autocast():\n"
          ]
        },
        {
          "output_type": "stream",
          "name": "stdout",
          "text": [
            "Epoch 21 | Batch 100/220 | LR 1.00e-04 | Batch Loss 0.0368\n",
            "Epoch 21 | Batch 200/220 | LR 1.00e-04 | Batch Loss 0.3708\n"
          ]
        },
        {
          "output_type": "stream",
          "name": "stderr",
          "text": [
            "<ipython-input-8-20985f93b7e0>:46: FutureWarning: `torch.cuda.amp.autocast(args...)` is deprecated. Please use `torch.amp.autocast('cuda', args...)` instead.\n",
            "  with autocast():\n"
          ]
        },
        {
          "output_type": "stream",
          "name": "stdout",
          "text": [
            "Epoch 21 | Train L 0.2044 Acc 0.8923 F1 0.8689 | Val   L 0.8235 Acc 0.8288 F1 0.7476\n"
          ]
        },
        {
          "output_type": "stream",
          "name": "stderr",
          "text": [
            "<ipython-input-8-20985f93b7e0>:11: FutureWarning: `torch.cuda.amp.autocast(args...)` is deprecated. Please use `torch.amp.autocast('cuda', args...)` instead.\n",
            "  with autocast():\n"
          ]
        },
        {
          "output_type": "stream",
          "name": "stdout",
          "text": [
            "Epoch 22 | Batch 100/220 | LR 1.00e-04 | Batch Loss 0.5217\n",
            "Epoch 22 | Batch 200/220 | LR 1.00e-04 | Batch Loss 0.1726\n"
          ]
        },
        {
          "output_type": "stream",
          "name": "stderr",
          "text": [
            "<ipython-input-8-20985f93b7e0>:46: FutureWarning: `torch.cuda.amp.autocast(args...)` is deprecated. Please use `torch.amp.autocast('cuda', args...)` instead.\n",
            "  with autocast():\n"
          ]
        },
        {
          "output_type": "stream",
          "name": "stdout",
          "text": [
            "Epoch 22 | Train L 0.2180 Acc 0.8860 F1 0.8530 | Val   L 0.7776 Acc 0.8447 F1 0.7355\n"
          ]
        },
        {
          "output_type": "stream",
          "name": "stderr",
          "text": [
            "<ipython-input-8-20985f93b7e0>:11: FutureWarning: `torch.cuda.amp.autocast(args...)` is deprecated. Please use `torch.amp.autocast('cuda', args...)` instead.\n",
            "  with autocast():\n"
          ]
        },
        {
          "output_type": "stream",
          "name": "stdout",
          "text": [
            "Epoch 23 | Batch 100/220 | LR 1.00e-04 | Batch Loss 0.5307\n",
            "Epoch 23 | Batch 200/220 | LR 1.00e-04 | Batch Loss 0.0937\n"
          ]
        },
        {
          "output_type": "stream",
          "name": "stderr",
          "text": [
            "<ipython-input-8-20985f93b7e0>:46: FutureWarning: `torch.cuda.amp.autocast(args...)` is deprecated. Please use `torch.amp.autocast('cuda', args...)` instead.\n",
            "  with autocast():\n"
          ]
        },
        {
          "output_type": "stream",
          "name": "stdout",
          "text": [
            "Epoch 23 | Train L 0.2132 Acc 0.8884 F1 0.8483 | Val   L 0.8288 Acc 0.8153 F1 0.7446\n"
          ]
        },
        {
          "output_type": "stream",
          "name": "stderr",
          "text": [
            "<ipython-input-8-20985f93b7e0>:11: FutureWarning: `torch.cuda.amp.autocast(args...)` is deprecated. Please use `torch.amp.autocast('cuda', args...)` instead.\n",
            "  with autocast():\n"
          ]
        },
        {
          "output_type": "stream",
          "name": "stdout",
          "text": [
            "Epoch 24 | Batch 100/220 | LR 1.00e-04 | Batch Loss 0.0654\n",
            "Epoch 24 | Batch 200/220 | LR 1.00e-04 | Batch Loss 0.1220\n"
          ]
        },
        {
          "output_type": "stream",
          "name": "stderr",
          "text": [
            "<ipython-input-8-20985f93b7e0>:46: FutureWarning: `torch.cuda.amp.autocast(args...)` is deprecated. Please use `torch.amp.autocast('cuda', args...)` instead.\n",
            "  with autocast():\n"
          ]
        },
        {
          "output_type": "stream",
          "name": "stdout",
          "text": [
            "Epoch 24 | Train L 0.2310 Acc 0.8777 F1 0.8432 | Val   L 0.8676 Acc 0.7903 F1 0.6983\n"
          ]
        },
        {
          "output_type": "stream",
          "name": "stderr",
          "text": [
            "<ipython-input-8-20985f93b7e0>:11: FutureWarning: `torch.cuda.amp.autocast(args...)` is deprecated. Please use `torch.amp.autocast('cuda', args...)` instead.\n",
            "  with autocast():\n"
          ]
        },
        {
          "output_type": "stream",
          "name": "stdout",
          "text": [
            "Epoch 25 | Batch 100/220 | LR 1.00e-04 | Batch Loss 0.1831\n",
            "Epoch 25 | Batch 200/220 | LR 1.00e-04 | Batch Loss 0.2752\n"
          ]
        },
        {
          "output_type": "stream",
          "name": "stderr",
          "text": [
            "<ipython-input-8-20985f93b7e0>:46: FutureWarning: `torch.cuda.amp.autocast(args...)` is deprecated. Please use `torch.amp.autocast('cuda', args...)` instead.\n",
            "  with autocast():\n"
          ]
        },
        {
          "output_type": "stream",
          "name": "stdout",
          "text": [
            "Epoch 25 | Train L 0.2128 Acc 0.8810 F1 0.8538 | Val   L 0.8444 Acc 0.8362 F1 0.7421\n"
          ]
        },
        {
          "output_type": "stream",
          "name": "stderr",
          "text": [
            "<ipython-input-8-20985f93b7e0>:11: FutureWarning: `torch.cuda.amp.autocast(args...)` is deprecated. Please use `torch.amp.autocast('cuda', args...)` instead.\n",
            "  with autocast():\n"
          ]
        },
        {
          "output_type": "stream",
          "name": "stdout",
          "text": [
            "Epoch 26 | Batch 100/220 | LR 1.00e-04 | Batch Loss 0.0765\n",
            "Epoch 26 | Batch 200/220 | LR 1.00e-04 | Batch Loss 0.3936\n"
          ]
        },
        {
          "output_type": "stream",
          "name": "stderr",
          "text": [
            "<ipython-input-8-20985f93b7e0>:46: FutureWarning: `torch.cuda.amp.autocast(args...)` is deprecated. Please use `torch.amp.autocast('cuda', args...)` instead.\n",
            "  with autocast():\n"
          ]
        },
        {
          "output_type": "stream",
          "name": "stdout",
          "text": [
            "Epoch 26 | Train L 0.2481 Acc 0.8816 F1 0.8503 | Val   L 0.7977 Acc 0.8507 F1 0.7336\n",
            "\n",
            "Best validation accuracy: 0.8517\n"
          ]
        }
      ]
    },
    {
      "cell_type": "code",
      "source": [
        "import numpy as np\n",
        "import matplotlib.pyplot as plt\n",
        "from sklearn.metrics import confusion_matrix\n",
        "\n",
        "# 1) Rebuild your splits & loaders\n",
        "df = preprocess_df(CSV_PATH)\n",
        "train_df, val_df, test_df = make_splits(df)\n",
        "_, val_loader, _, class_wts = make_loaders(train_df, val_df, test_df,\n",
        "                                           batch_size=BATCH_SIZE)\n",
        "\n",
        "# 2) Reload your trained model weights\n",
        "model = ModifiedResNet50(num_classes=class_wts.numel()).to(DEVICE)\n",
        "model.load_state_dict(torch.load('best_resnet50.pth', map_location=DEVICE))\n",
        "model.eval()\n",
        "\n",
        "# 3) Inference on the validation set\n",
        "all_preds_val, all_labels_val = [], []\n",
        "with torch.no_grad():\n",
        "    for xb, yb in val_loader:\n",
        "        xb, yb = xb.to(DEVICE), yb.to(DEVICE)\n",
        "        logits = model(xb)\n",
        "        preds  = logits.argmax(dim=1)\n",
        "        all_preds_val .extend(preds.cpu().tolist())\n",
        "        all_labels_val.extend(yb.cpu().tolist())\n",
        "\n",
        "# 4) Compute confusion matrix\n",
        "cm_val = confusion_matrix(all_labels_val, all_preds_val)\n",
        "\n",
        "# 5) Recover lesion codes from val_loader.dataset.label_map\n",
        "inv_map = {idx: orig for orig, idx in val_loader.dataset.label_map.items()}\n",
        "n       = cm_val.shape[0]\n",
        "lesions = [inv_map[i] for i in range(n)]\n",
        "\n",
        "# 6) Plot with a light “Blues” colormap\n",
        "fig, ax = plt.subplots(figsize=(8, 8))\n",
        "im = ax.imshow(cm_val, interpolation='nearest', aspect='auto', cmap='Blues')\n",
        "plt.colorbar(im, ax=ax, label='Count')\n",
        "\n",
        "ax.set_xticks(np.arange(n))\n",
        "ax.set_yticks(np.arange(n))\n",
        "ax.set_xticklabels(lesions, rotation=45, ha='right')\n",
        "ax.set_yticklabels(lesions)\n",
        "\n",
        "for i in range(n):\n",
        "    for j in range(n):\n",
        "        ax.text(j, i, cm_val[i, j], ha='center', va='center')\n",
        "\n",
        "ax.set_xlabel('Predicted lesion')\n",
        "ax.set_ylabel('True lesion')\n",
        "ax.set_title('Validation Set Confusion Matrix (Light Blue)')\n",
        "plt.tight_layout()\n",
        "plt.show()\n"
      ],
      "metadata": {
        "colab": {
          "base_uri": "https://localhost:8080/",
          "height": 807
        },
        "id": "JY4y_l3z3kEw",
        "outputId": "c85e8176-ecaf-44b4-b949-aaf4fab2ee9d"
      },
      "execution_count": 30,
      "outputs": [
        {
          "output_type": "display_data",
          "data": {
            "text/plain": [
              "<Figure size 800x800 with 2 Axes>"
            ],
            "image/png": "[encoded data removed]"
          },
          "metadata": {}
        }
      ]
    },
    {
      "cell_type": "code",
      "source": [
        "import torch\n",
        "from torch.utils.data      import DataLoader\n",
        "from sklearn.model_selection import train_test_split\n",
        "from sklearn.metrics         import accuracy_score, precision_score, recall_score, f1_score\n",
        "\n",
        "# 1) Re-load your full dataframe & make the same splits\n",
        "full_df    = preprocess_df(CSV_PATH)            # same helper you used above\n",
        "_, val_df, test_df = make_splits(full_df)       # returns train/val/test\n",
        "\n",
        "# 2) Instantiate the test‐loader\n",
        "test_ds     = HAM10000Dataset(test_df, transform=val_test_tfm)\n",
        "test_loader = DataLoader(\n",
        "    test_ds,\n",
        "    batch_size=BATCH_SIZE,\n",
        "    shuffle=False,\n",
        "    num_workers=2,\n",
        "    pin_memory=True\n",
        ")\n",
        "\n",
        "# 3) Rebuild your model architecture & load best weights\n",
        "model = ModifiedResNet50(num_classes=len(full_df.label.unique())).to(DEVICE)\n",
        "model.load_state_dict(torch.load('best_resnet50.pth', map_location=DEVICE))\n",
        "model.eval()\n",
        "\n",
        "# 4) Run inference over the test‐loader\n",
        "all_preds, all_labels = [], []\n",
        "with torch.no_grad():\n",
        "    for xb, yb in test_loader:\n",
        "        xb, yb = xb.to(DEVICE), yb.to(DEVICE)\n",
        "        logits = model(xb)\n",
        "        preds  = logits.argmax(dim=1)\n",
        "        all_preds .extend(preds.cpu().tolist())\n",
        "        all_labels.extend(yb.cpu().tolist())\n",
        "\n",
        "# 5) Compute your four metrics\n",
        "acc  = accuracy_score(all_labels, all_preds) * 100\n",
        "prec = precision_score(all_labels, all_preds, average=\"macro\") * 100\n",
        "rec  = recall_score(all_labels, all_preds, average=\"macro\") * 100\n",
        "f1   = f1_score(all_labels, all_preds, average=\"macro\") * 100\n",
        "\n",
        "# 6) Print “Table VI” exactly as you want it\n",
        "print(\"TABLE VI  RESULTS FROM STAGE 1\")\n",
        "print(\"| Exp |   Model    | Accuracy | Precision | Recall | F1-score |\")\n",
        "print(\"|:---:|:-----------|:--------:|:---------:|:------:|:--------:|\")\n",
        "print(f\"| 6   | ResNet-50  |  {acc:5.1f}%  |   {prec:5.1f}%   |  {rec:5.1f}% |  {f1:5.1f}%   |\")\n"
      ],
      "metadata": {
        "id": "8aqfrvIvlciL",
        "colab": {
          "base_uri": "https://localhost:8080/"
        },
        "outputId": "63cee789-52dc-48e9-ebe8-794627c8a883"
      },
      "execution_count": 16,
      "outputs": [
        {
          "output_type": "stream",
          "name": "stdout",
          "text": [
            "TABLE VI  RESULTS FROM STAGE 1\n",
            "| Exp |   Model    | Accuracy | Precision | Recall | F1-score |\n",
            "|:---:|:-----------|:--------:|:---------:|:------:|:--------:|\n",
            "| 6   | ResNet-50  |   85.1%  |    80.2%   |   79.8% |   79.4%   |\n"
          ]
        }
      ]
    },
    {
      "cell_type": "code",
      "source": [
        "import numpy as np\n",
        "import matplotlib.pyplot as plt\n",
        "from sklearn.metrics import confusion_matrix\n",
        "from sklearn.preprocessing import LabelEncoder\n",
        "\n",
        "# — after your inference, with all_labels, all_preds and test_ds already defined —\n",
        "\n",
        "# 1) Compute the confusion matrix\n",
        "cm = confusion_matrix(all_labels, all_preds)\n",
        "\n",
        "# 2) Re-load your full df and rebuild the LabelEncoder you used for `df[\"label\"]`\n",
        "df_le = pd.read_csv(CSV_PATH)\n",
        "le    = LabelEncoder().fit(df_le[\"dx\"])       # now le.classes_ == array of your lesion codes\n",
        "\n",
        "# 3) Number of classes in the matrix\n",
        "n = cm.shape[0]\n",
        "\n",
        "# 4) Get the first n class names in encoder order\n",
        "class_names = le.inverse_transform(np.arange(n))\n",
        "\n",
        "# 5) Plot with a light “Blues” colormap\n",
        "fig, ax = plt.subplots(figsize=(8, 8))\n",
        "im = ax.imshow(cm, interpolation='nearest', aspect='auto', cmap='Blues')\n",
        "plt.colorbar(im, ax=ax, label='Count')\n",
        "\n",
        "# 6) Tick marks + the real lesion codes\n",
        "ax.set_xticks(np.arange(n))\n",
        "ax.set_yticks(np.arange(n))\n",
        "ax.set_xticklabels(class_names, rotation=45, ha='right')\n",
        "ax.set_yticklabels(class_names)\n",
        "\n",
        "# 7) Annotate each cell with the count\n",
        "for i in range(n):\n",
        "    for j in range(n):\n",
        "        ax.text(j, i, cm[i, j], ha='center', va='center')\n",
        "\n",
        "ax.set_xlabel('Predicted lesion')\n",
        "ax.set_ylabel('True lesion')\n",
        "ax.set_title('Test Set Confusion Matrix (Lesion Codes)')\n",
        "plt.tight_layout()\n",
        "plt.show()\n"
      ],
      "metadata": {
        "id": "1jd4CMbYlckt",
        "colab": {
          "base_uri": "https://localhost:8080/",
          "height": 807
        },
        "outputId": "31a8a008-56aa-4c59-a0d1-1e580038d706"
      },
      "execution_count": 28,
      "outputs": [
        {
          "output_type": "display_data",
          "data": {
            "text/plain": [
              "<Figure size 800x800 with 2 Axes>"
            ],
            "image/png": "[encoded data removed]"
          },
          "metadata": {}
        }
      ]
    },
    {
      "cell_type": "code",
      "source": [],
      "metadata": {
        "id": "UPWCRGxylcoE"
      },
      "execution_count": null,
      "outputs": []
    },
    {
      "cell_type": "code",
      "source": [],
      "metadata": {
        "id": "0doNYL6Mlcsw"
      },
      "execution_count": null,
      "outputs": []
    }
  ]
}